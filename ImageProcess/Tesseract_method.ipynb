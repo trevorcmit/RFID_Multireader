{
 "cells": [
  {
   "cell_type": "code",
   "execution_count": 1,
   "metadata": {},
   "outputs": [
    {
     "name": "stdout",
     "output_type": "stream",
     "text": [
      "\n",
      "\n",
      "\n",
      "\n",
      "\n",
      "\n",
      "\n",
      "\n",
      "\n",
      "\n",
      "\n",
      "\n",
      "\n",
      "\n",
      "\n",
      "\n",
      "\n",
      "\n",
      "[eat\n",
      "Pana\n",
      ") a\n",
      "y 0.4\n",
      "| 1\n",
      "\n",
      "\n",
      "\n"
     ]
    }
   ],
   "source": [
    "import cv2, os\n",
    "import pytesseract\n",
    "  \n",
    "\n",
    "# Tesseract installer found here: https://github.com/UB-Mannheim/tesseract/wiki\n",
    "pytesseract.pytesseract.tesseract_cmd = 'C:\\\\Program Files\\\\Tesseract-OCR\\\\tesseract.exe'\n",
    "  \n",
    "\n",
    "for im in os.listdir('ims'):          # this is the folder where the images are stored\n",
    "\n",
    "    img = cv2.imread('ims/' + im)     # image path \n",
    "    \n",
    "    # Our image will read as BGR format,\n",
    "    # So we will convert in RGB format because \n",
    "    # tesseract can only read in RGB format\n",
    "    img = cv2.cvtColor(img, cv2.COLOR_BGR2RGB)\n",
    "    \n",
    "    # For getting the text and number from image\n",
    "    print(pytesseract.image_to_string(img))\n",
    "    \n",
    "    # For displaying the original image\n",
    "    cv2.imshow(\"result\", img)\n",
    "    cv2.waitKey(0)  # press zero key to go to next image"
   ]
  }
 ],
 "metadata": {
  "kernelspec": {
   "display_name": "Python 3",
   "language": "python",
   "name": "python3"
  },
  "language_info": {
   "codemirror_mode": {
    "name": "ipython",
    "version": 3
   },
   "file_extension": ".py",
   "mimetype": "text/x-python",
   "name": "python",
   "nbconvert_exporter": "python",
   "pygments_lexer": "ipython3",
   "version": "3.8.1"
  },
  "orig_nbformat": 4
 },
 "nbformat": 4,
 "nbformat_minor": 2
}
