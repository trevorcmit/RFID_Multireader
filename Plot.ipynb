{
 "cells": [
  {
   "cell_type": "code",
   "execution_count": null,
   "metadata": {},
   "outputs": [],
   "source": [
    "import numpy as np\n",
    "import matplotlib.pyplot as plt\n",
    "import csv\n",
    "import datetime"
   ]
  },
  {
   "cell_type": "code",
   "execution_count": null,
   "metadata": {},
   "outputs": [],
   "source": [
    "with open('tagsPA.txt', 'r') as file:\n",
    "    reader = csv.reader(file)\n",
    "\n",
    "    data = []                            # Initialize empty list\n",
    "    database = dict()\n",
    "    recent_EPC = ''\n",
    "    Time_Or_Data = True                  # Time is true, Data is false\n",
    "\n",
    "    reached_24 = False\n",
    "\n",
    "    for l in reader:\n",
    "\n",
    "        line = l[0]\n",
    "         \n",
    "        if len(line)==24:                # If it is an EPC\n",
    "            database[line] = [[],[]]\n",
    "            recent_EPC = line\n",
    "        \n",
    "        elif line == '[':\n",
    "            data = []\n",
    "\n",
    "        elif line == ']':                # End of list\n",
    "            if len(data)!=0:\n",
    "                if Time_Or_Data:\n",
    "                    database[recent_EPC][0] = data\n",
    "                    Time_Or_Data = False\n",
    "                else:\n",
    "                    database[recent_EPC][1] = data\n",
    "                    Time_Or_Data = True\n",
    "            data = []\n",
    "\n",
    "        elif len(line)==8:               # If it is a time stamp\n",
    "            h,m,s = line.split(':')\n",
    "\n",
    "            if int(h)==23:\n",
    "                reached_24 = True\n",
    "\n",
    "            if reached_24 and int(h) < 12:\n",
    "                day=2\n",
    "            else:\n",
    "                day=1\n",
    "\n",
    "            data.append(datetime.datetime(1900, 1, day,int(h),int(m),int(s)))\n",
    "        \n",
    "        elif line ==' ':\n",
    "            pass\n",
    "\n",
    "        else:                            # If it is a data point\n",
    "            try:\n",
    "                data.append(float(line))\n",
    "            except:\n",
    "                pass\n",
    "\n",
    "num = []\n",
    "for k,v in database.items():\n",
    "    num.append(len(v[1]))\n",
    "print(len(num))"
   ]
  },
  {
   "cell_type": "code",
   "execution_count": null,
   "metadata": {},
   "outputs": [],
   "source": [
    "import matplotlib.dates as mdates\n",
    "# hours = mdates.HourLocator(interval=1)\n",
    "myFmt = mdates.DateFormatter('%H:%M:%S')"
   ]
  },
  {
   "cell_type": "code",
   "execution_count": null,
   "metadata": {},
   "outputs": [],
   "source": [
    "fig, ax = plt.subplots(figsize=(11, 6.5))\n",
    "# ax.xaxis.set_major_locator(hours)\n",
    "ax.xaxis.set_major_formatter(myFmt)\n",
    "\n",
    "for k,v in database.items():\n",
    "    if len(v[1]) > 1:\n",
    "        ax.plot(v[0], v[1], label=k[-4:], linewidth=1.25, marker=\".\")\n",
    "\n",
    "ax.set_ylabel(\"Temperature (°C)\", fontsize=16.5)\n",
    "ax.set_xlabel(\"Time (H:M:S)\", fontsize=16.5)\n",
    "ax.set_title(\"tagsPA.txt, Temperatures over Time\", fontsize=16.5)\n",
    "# ax.legend()"
   ]
  },
  {
   "cell_type": "code",
   "execution_count": null,
   "metadata": {},
   "outputs": [],
   "source": [
    "vs = dict()\n",
    "for k,v in database.items():\n",
    "    v_0, ts = [], []\n",
    "\n",
    "    for time in v[0]:\n",
    "\n",
    "        span = time + datetime.timedelta(minutes=1)\n",
    "\n",
    "        count = 0\n",
    "        for a,b in zip(v[0],v[1]):\n",
    "            if a < span and a > time:\n",
    "                count += 1\n",
    "\n",
    "                if a > span:\n",
    "                    break\n",
    "        \n",
    "        v_0.append(count)\n",
    "        ts.append(time)\n",
    "    vs[k] = [v_0, ts]"
   ]
  },
  {
   "cell_type": "code",
   "execution_count": null,
   "metadata": {},
   "outputs": [],
   "source": [
    "from tqdm import tqdm\n",
    "start = datetime.datetime(1900, 1, 1, 3, 57, 41);\n",
    "\n",
    "times, counts = [], []\n",
    "tags = []\n",
    "for i in tqdm(range(530)):                       # For each second in the test\n",
    "\n",
    "    span = start + datetime.timedelta(seconds=60)\n",
    "    count = 0                                      # Count of number of tags read in the minute-long span\n",
    "    tag_count = 0\n",
    "\n",
    "    first_index = dict();\n",
    "    for k,v in database.items():                   # Setup first index dictionary for efficiency\n",
    "        first_index[k] = 0\n",
    "\n",
    "    for k,v in database.items():                   # Iterate over each tag in the database\n",
    "\n",
    "        yes_tag = False                                # Boolean to check if the tag is in the span\n",
    "        first_i = False\n",
    "\n",
    "        for i,m in zip(range(first_index[k],len(v[0])), v[0][first_index[k]:]): # For timestamp,temp_value for each tag...\n",
    "            if m < span and m > start:                   # If the timestamp is within the minute-long span...\n",
    "\n",
    "                if not yes_tag:\n",
    "                    yes_tag = True\n",
    "                    tag_count += 1\n",
    "\n",
    "                if not first_i:\n",
    "                    first_i = True\n",
    "                    first_index[k]=i\n",
    "\n",
    "                count += 1                         # Increment the count\n",
    "            \n",
    "            if m > span:                           # If the timestamp is greater than the span, break\n",
    "                break\n",
    "\n",
    "    tags.append(tag_count)\n",
    "    times.append(start)\n",
    "    counts.append(count)\n",
    "\n",
    "    start += datetime.timedelta(seconds=1)\n"
   ]
  },
  {
   "cell_type": "code",
   "execution_count": null,
   "metadata": {},
   "outputs": [],
   "source": [
    "fig, (ax1, ax2) = plt.subplots(2,1, figsize=(14.5, 9.5))\n",
    "ax1.plot(times, counts, \"blue\", linewidth=0.6, label=\"Reads per minute\")\n",
    "ax2.plot(times, tags, \"red\", linewidth=0.6, label=\"# of tags in count\")\n",
    "ax2.set_xlabel(\"Time (H:M:S)\", fontsize=13)\n",
    "ax1.set_ylabel(\"Reads per Minute\", fontsize=13)\n",
    "ax1.set_title(\"tags 9.txt, Total Reads Per Minute\", fontsize=14)\n",
    "ax1.xaxis.set_major_formatter(myFmt)\n",
    "ax2.xaxis.set_major_formatter(myFmt)\n",
    "ax2.set_ylabel(\"# of tags in count\", fontsize=13)\n",
    "ax2.set_title(\"tags 9.txt, Number of Tags Read Per Minute\", fontsize=14)"
   ]
  },
  {
   "cell_type": "code",
   "execution_count": null,
   "metadata": {},
   "outputs": [],
   "source": [
    "fig, ax = plt.subplots(figsize=(11, 6))\n",
    "ax.xaxis.set_major_formatter(myFmt)\n",
    "\n",
    "for i,j in vs.items():\n",
    "    ax.plot(j[1], j[0], linewidth=1.0, label=i[-4:])\n",
    "ax.set_xlabel(\"Number of Reads\", fontsize=16)\n",
    "ax.set_ylabel(\"Time (H:M:S)\", fontsize=16)\n",
    "ax.set_title(\"tags 9.txt, Reads per Minute by Tag\", fontsize=17.5)\n",
    "ax.legend()"
   ]
  },
  {
   "cell_type": "code",
   "execution_count": null,
   "metadata": {},
   "outputs": [],
   "source": []
  }
 ],
 "metadata": {
  "kernelspec": {
   "display_name": "Python 3",
   "language": "python",
   "name": "python3"
  },
  "language_info": {
   "codemirror_mode": {
    "name": "ipython",
    "version": 3
   },
   "file_extension": ".py",
   "mimetype": "text/x-python",
   "name": "python",
   "nbconvert_exporter": "python",
   "pygments_lexer": "ipython3",
   "version": "3.8.1"
  },
  "orig_nbformat": 4,
  "vscode": {
   "interpreter": {
    "hash": "3564471f34e42ee08001168fcdc39b80aa763f352c7baf85b2e78fe67d0c3b26"
   }
  }
 },
 "nbformat": 4,
 "nbformat_minor": 2
}
